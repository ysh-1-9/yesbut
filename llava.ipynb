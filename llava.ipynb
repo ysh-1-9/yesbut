{
 "cells": [
  {
   "cell_type": "code",
   "execution_count": null,
   "id": "bbec2cda-cde1-470a-b318-9ee6c972db5e",
   "metadata": {},
   "outputs": [],
   "source": [
    "[{\n",
    "    \"image_path\": \"20240101_174237.jpg\",\n",
    "    \"output\": \"The image is funny because it depicts a pink man standing on a traffic light, and it's a reference to the famous \\\"Pink Man\\\" painting by Banksy. The image also has a humorous twist, as the pink man is wearing a red shirt, which is a common sight in street art. The juxtaposition of the man standing on a traffic signal and wearing a red t-shirt creates a humorous and unexpected visual.\"\n",
    "  }]"
   ]
  },
  {
   "cell_type": "code",
   "execution_count": 1,
   "id": "90636664-03a7-44df-be3a-af6f3351ae82",
   "metadata": {},
   "outputs": [],
   "source": [
    "import sys\n",
    "\n",
    "# Add your custom path\n",
    "custom_path = \"../LLaVA\"\n",
    "sys.path.append(custom_path)"
   ]
  },
  {
   "cell_type": "code",
   "execution_count": 2,
   "id": "1f64ffb3-6f2d-4a95-a6b3-fb850db0c6bf",
   "metadata": {},
   "outputs": [
    {
     "name": "stdout",
     "output_type": "stream",
     "text": [
      "[2024-05-25 20:07:29,789] [INFO] [real_accelerator.py:110:get_accelerator] Setting ds_accelerator to cuda (auto detect)\n"
     ]
    },
    {
     "data": {
      "application/vnd.jupyter.widget-view+json": {
       "model_id": "06ef1e3b095e4bbe90b9cf7933f1361e",
       "version_major": 2,
       "version_minor": 0
      },
      "text/plain": [
       "Loading checkpoint shards:   0%|          | 0/9 [00:00<?, ?it/s]"
      ]
     },
     "metadata": {},
     "output_type": "display_data"
    }
   ],
   "source": [
    "from transformers import AutoTokenizer, BitsAndBytesConfig\n",
    "from llava.model import LlavaLlamaForCausalLM\n",
    "import torch\n",
    "\n",
    "model_path = \"4bit/llava-v1.5-13b-3GB\"\n",
    "kwargs = {\"device_map\": \"auto\"}\n",
    "kwargs['load_in_4bit'] = True\n",
    "kwargs['quantization_config'] = BitsAndBytesConfig(\n",
    "    load_in_4bit=True,\n",
    "    bnb_4bit_compute_dtype=torch.float16,\n",
    "    bnb_4bit_use_double_quant=True,\n",
    "    bnb_4bit_quant_type='nf4'\n",
    ")\n",
    "model = LlavaLlamaForCausalLM.from_pretrained(model_path, low_cpu_mem_usage=True, **kwargs)\n",
    "tokenizer = AutoTokenizer.from_pretrained(model_path, use_fast=False)\n",
    "\n",
    "vision_tower = model.get_vision_tower()\n",
    "if not vision_tower.is_loaded:\n",
    "    vision_tower.load_model()\n",
    "vision_tower.to(device='cuda')\n",
    "image_processor = vision_tower.image_processor"
   ]
  },
  {
   "cell_type": "code",
   "execution_count": null,
   "id": "7780749d-d3d7-4084-9d23-c0892758d104",
   "metadata": {},
   "outputs": [],
   "source": [
    "# import os\n",
    "# def to_dalle_path(type, og_filename, side):\n",
    "#     return os.path.join(f\"outputs/dalle3/{type.lower()}/{side.lower()}\",f\"{og_filename}_{type}_{side}.jpg\")\n",
    "\n",
    "# def get_lr_path_from_filename(filename):\n",
    "#     if not \"YES\" in filename and not \"BUT\" in filename:\n",
    "#         yes = os.path.join(\"images_split\",f\"{filename[:-4]}_YES.jpg\")\n",
    "#         but = os.path.join(\"images_split\",f\"{filename[:-4]}_BUT.jpg\")\n",
    "#     else:\n",
    "#         parts = filename.split(\"_\")\n",
    "#         #print(parts)\n",
    "#         og_filename = \"_\".join(parts[:-4])\n",
    "#         yestype, buttype = parts[-4], parts[-2]\n",
    "#         yes = to_dalle_path(yestype, og_filename, \"YES\") if yestype!=\"ORIG\" else os.path.join(\"images_split\",f\"{og_filename}_YES.jpg\")\n",
    "#         but = to_dalle_path(buttype, og_filename, \"BUT\") if buttype!=\"ORIG\" else os.path.join(\"images_split\",f\"{og_filename}_BUT.jpg\")\n",
    "#     return yes,but\n",
    "\n",
    "# print(get_lr_path_from_filename(\"20240101_172315_STICK_YES_3D_BUT.jpg\"))"
   ]
  },
  {
   "cell_type": "code",
   "execution_count": 4,
   "id": "bbc8945d-8d44-4629-9c40-8d6802bf3db9",
   "metadata": {},
   "outputs": [],
   "source": [
    "from PIL import Image\n",
    "\n",
    "# def join_images(images):\n",
    "#     max_width = max(img.width for img in images)\n",
    "#     total_height = max(img.height for img in images)\n",
    "#     padding = int(0.05 * max_width)\n",
    "#     new_image = Image.new('RGB', (len(images) * max_width + (len(images)-1) * padding, total_height), (255, 255, 255))\n",
    "#     current_width = 0\n",
    "#     for img in images:\n",
    "#         new_image.paste(img, (current_width, 0))\n",
    "#         current_width += img.width + padding\n",
    "#     return new_image\n",
    "\n",
    "# l,r = get_lr_path_from_filename(\"20240101_172315_3D_YES_3D_BUT.jpg\")\n",
    "# image = join_images([Image.open(l), Image.open(r)])\n",
    "# display(image.resize((336,336)))"
   ]
  },
  {
   "cell_type": "code",
   "execution_count": null,
   "id": "badf9abe-7455-4578-a668-39ebc0f1a6b3",
   "metadata": {},
   "outputs": [],
   "source": [
    "import os\n",
    "import requests\n",
    "from io import BytesIO\n",
    "from llava.conversation import conv_templates, SeparatorStyle\n",
    "from llava.utils import disable_torch_init\n",
    "from llava.constants import IMAGE_TOKEN_INDEX, DEFAULT_IMAGE_TOKEN, DEFAULT_IM_START_TOKEN, DEFAULT_IM_END_TOKEN\n",
    "from llava.mm_utils import tokenizer_image_token, get_model_name_from_path, KeywordsStoppingCriteria\n",
    "from transformers import TextStreamer\n",
    "\n",
    "def caption_image(image, prompt):\n",
    "    disable_torch_init()\n",
    "    conv_mode = \"llava_v0\"\n",
    "    conv = conv_templates[conv_mode].copy()\n",
    "    roles = conv.roles\n",
    "    image_tensor = image_processor.preprocess(image, return_tensors='pt')['pixel_values'].half().cuda()\n",
    "    inp = f\"{roles[0]}: {prompt}\"\n",
    "    inp = DEFAULT_IM_START_TOKEN + DEFAULT_IMAGE_TOKEN + DEFAULT_IM_END_TOKEN + '\\n' + inp\n",
    "    conv.append_message(conv.roles[0], inp)\n",
    "    conv.append_message(conv.roles[1], None)\n",
    "    raw_prompt = conv.get_prompt()\n",
    "    input_ids = tokenizer_image_token(raw_prompt, tokenizer, IMAGE_TOKEN_INDEX, return_tensors='pt').unsqueeze(0).cuda()\n",
    "    stop_str = conv.sep if conv.sep_style != SeparatorStyle.TWO else conv.sep2\n",
    "    keywords = [stop_str]\n",
    "    stopping_criteria = KeywordsStoppingCriteria(keywords, tokenizer, input_ids)\n",
    "    with torch.inference_mode():\n",
    "      output_ids = model.generate(input_ids, images=image_tensor, do_sample=True, temperature=0.9, top_p=0.6,\n",
    "                                  max_new_tokens=128, use_cache=True, stopping_criteria=[stopping_criteria])\n",
    "    outputs = tokenizer.decode(output_ids[0, input_ids.shape[1]:]).strip()\n",
    "    conv.messages[-1][-1] = outputs\n",
    "    output = outputs.rsplit('</s>', 1)[0]\n",
    "    return image, output\n",
    "\n",
    "image = Image.open(\"yesbut_second_round_negatives/20240101_172339_STICK_YES_STICK_BUT.jpg\")\n",
    "image, output = caption_image(image, \"Describe this image\")\n",
    "display(image.resize((336,336)))\n",
    "print(output)"
   ]
  },
  {
   "cell_type": "code",
   "execution_count": 9,
   "id": "1ce2305e-3868-42d3-b72f-8fec385a3093",
   "metadata": {},
   "outputs": [
    {
     "name": "stdout",
     "output_type": "stream",
     "text": [
      "PROMPT:  A chat between a curious human and an artificial intelligence assistant. The assistant gives helpful, detailed, and polite answers to the human's questions.###Human: <im_start><image><im_end>\n",
      "Human: Why is this image funny/satirical? Explain in about 50-70 words###Assistant:\n",
      "The image is funny and satirical because the Google search bar shows that the user is searching for information about bitcoins and earning money from them. This is amusing because it is a playful representation of people's obsession with making money, especially through digital means. Furthermore, the image suggests that the user might be looking for ways to use their iPhone to generate extra income, which adds to the humor of the situation, as it seems like an implausible solution. The contrast between the user's expectations and the actual results, combined with the exaggerated nature of the search results, creates a comical and lighthearted effect.\n"
     ]
    },
    {
     "data": {
      "image/png": "[encoded data removed]",
      "text/plain": [
       "<PIL.Image.Image image mode=RGB size=256x256>"
      ]
     },
     "metadata": {},
     "output_type": "display_data"
    }
   ],
   "source": [
    "import os\n",
    "import requests\n",
    "from io import BytesIO\n",
    "from llava.conversation import conv_templates, SeparatorStyle\n",
    "from llava.utils import disable_torch_init\n",
    "from llava.constants import IMAGE_TOKEN_INDEX, DEFAULT_IMAGE_TOKEN, DEFAULT_IM_START_TOKEN, DEFAULT_IM_END_TOKEN\n",
    "from llava.mm_utils import tokenizer_image_token, get_model_name_from_path, KeywordsStoppingCriteria\n",
    "from transformers import TextStreamer\n",
    "\n",
    "def caption_image(image, prompt, verbose=False, cot=False):\n",
    "    image = image.convert('RGB')\n",
    "    disable_torch_init()\n",
    "    conv_mode = \"llava_v0\"\n",
    "    conv = conv_templates[conv_mode].copy()\n",
    "    roles = conv.roles\n",
    "    image_tensor = image_processor.preprocess(image, return_tensors='pt')['pixel_values'].half().cuda()\n",
    "    inp = f\"{roles[0]}: {prompt}\"\n",
    "    labels = [\"Y\", \"N\"]\n",
    "    inp = DEFAULT_IM_START_TOKEN + DEFAULT_IMAGE_TOKEN + DEFAULT_IM_END_TOKEN + '\\n' + inp\n",
    "    conv.append_message(conv.roles[0], inp)\n",
    "    conv.append_message(conv.roles[1], None)\n",
    "    raw_prompt = conv.get_prompt()\n",
    "    if cot:\n",
    "        raw_prompt+=\"Lets think step by step. This image has 2 halves - they depict \"\n",
    "        max_new_tokens = 1024\n",
    "    else:\n",
    "        #raw_prompt+=\" [\"\n",
    "        max_new_tokens = 256\n",
    "        \n",
    "    if verbose:\n",
    "        print(\"PROMPT: \",raw_prompt)\n",
    "    input_ids = tokenizer_image_token(raw_prompt, tokenizer, IMAGE_TOKEN_INDEX, return_tensors='pt').unsqueeze(0).cuda()\n",
    "    stop_str = conv.sep if conv.sep_style != SeparatorStyle.TWO else conv.sep2\n",
    "    keywords = [stop_str]\n",
    "    stopping_criteria = KeywordsStoppingCriteria(keywords, tokenizer, input_ids)\n",
    "    with torch.inference_mode():\n",
    "      output_ids = model.generate(input_ids, images=image_tensor, do_sample=True, temperature=0.7,\n",
    "                                  max_new_tokens=max_new_tokens, use_cache=True, stopping_criteria=[stopping_criteria])\n",
    "    outputs = tokenizer.decode(output_ids[0, input_ids.shape[1]:]).strip()\n",
    "    conv.messages[-1][-1] = outputs\n",
    "    output0 = outputs.rsplit('</s>', 1)[0]\n",
    "\n",
    "    input_ids.to(\"cpu\")\n",
    "    del input_ids\n",
    "    output_ids.to(\"cpu\")\n",
    "    del output_ids\n",
    "\n",
    "    output = None\n",
    "    if cot:\n",
    "        if verbose:\n",
    "            print(output0)\n",
    "        raw_prompt+=output0+\". Hence the correct option out of Y/N is [\"\n",
    "\n",
    "        input_ids = tokenizer_image_token(raw_prompt, tokenizer, IMAGE_TOKEN_INDEX, return_tensors='pt').unsqueeze(0).cuda()\n",
    "        stop_str = conv.sep if conv.sep_style != SeparatorStyle.TWO else conv.sep2\n",
    "        keywords = [stop_str]\n",
    "        stopping_criteria = KeywordsStoppingCriteria(keywords, tokenizer, input_ids)\n",
    "        with torch.inference_mode():\n",
    "          output_ids = model.generate(input_ids, images=image_tensor, do_sample=True, temperature=0.2,\n",
    "                                      max_new_tokens=8, use_cache=True, stopping_criteria=[stopping_criteria])\n",
    "        outputs = tokenizer.decode(output_ids[0, input_ids.shape[1]:]).strip()\n",
    "        conv.messages[-1][-1] = outputs\n",
    "        output = outputs.rsplit('</s>', 1)[0]\n",
    "\n",
    "        input_ids.to(\"cpu\")\n",
    "        del input_ids\n",
    "        output_ids.to(\"cpu\")\n",
    "        del output_ids\n",
    "\n",
    "    image_tensor.to(\"cpu\")\n",
    "    del image_tensor\n",
    "    \n",
    "    return image, output0, output\n",
    "\n",
    "prompt = '''You are an AI expert in detecting humour or satire. User gives you an image, and you have to make a choice \"Y\" or \"N\".\n",
    "###Instructions: The image contains 2 halves - left (called yes) and right (called but). The images in both might be related and have a funny overall meaning, or they may make no sense. Make a choice \"Y\" if the combined image is funny or \"N\" if its not funny:\n",
    "###Output format: one character, only one of [Y] or [N]'''\n",
    "prompt = \"Why is this image funny/satirical? Explain in about 50-70 words\"\n",
    "image, output0, output = caption_image(Image.open(\"images_real/Screenshot_2024-05-23-20-22-16-966_com.instagram.android.jpg\"), prompt, True, False)\n",
    "print(output0)\n",
    "display(image.resize((256,256)))"
   ]
  },
  {
   "cell_type": "code",
   "execution_count": 13,
   "id": "8ad6d23e-e0d6-4c04-9552-8da6ea8d7c3d",
   "metadata": {},
   "outputs": [
    {
     "name": "stderr",
     "output_type": "stream",
     "text": [
      "100%|█████████████████████████████████████████████████| 119/119 [10:07<00:00,  5.11s/it, folder=images_real, total=119, accuracy=0, adherance=0]\n"
     ]
    }
   ],
   "source": [
    "import os,json\n",
    "from tqdm import tqdm\n",
    "#from validate import validate_file\n",
    "import random\n",
    "\n",
    "outpath = \"outputs/annotations/images_real/whyfunny/llava-whyfunny.json\"\n",
    "inpaths = [\"images_real\"]\n",
    "\n",
    "try:\n",
    "    with open(outpath, \"r\") as f:\n",
    "        outputs = json.load(f)\n",
    "except FileNotFoundError:\n",
    "    print(\"starting from zero\")\n",
    "    outputs = {}\n",
    "    \n",
    "    \n",
    "total, correct, adhering = 0,0,0\n",
    "files = sum(([os.path.join(folder, file) for file in os.listdir(folder)] for folder in inpaths),[])   \n",
    "random.shuffle(files)\n",
    "pbar = tqdm(files)\n",
    "for filepath in pbar:\n",
    "    folder, file = filepath.split(\"/\")\n",
    "    if filepath in outputs and outputs[filepath]:\n",
    "        total+=1\n",
    "        #correct+= 1 if ((outputs[filepath][\"pred\"][0]==\"Y\" and \"negative\" not in folder) or (outputs[filepath][\"pred\"][0]==\"N\" and \"negative\" in folder)) else 0\n",
    "        #adhering+= 1 if outputs[filepath][\"pred\"][0] in [\"Y\", \"N\"] else 0\n",
    "        pbar.set_postfix({\"folder\": folder, \"total\": total, \"accuracy\": correct/total, \"adherance\": adhering/total})\n",
    "        continue\n",
    "    image = Image.open(filepath)\n",
    "    _, reason, pred = caption_image(image, prompt, verbose=False, cot=False)\n",
    "    #output = {\"reason\":reason, \"pred\": pred}\n",
    "    output = reason\n",
    "    \n",
    "    outputs[filepath]= output\n",
    "    with open(outpath, \"w\") as f:\n",
    "        json.dump(outputs, f, indent=4)\n",
    "\n",
    "    total+=1\n",
    "    #correct+= 1 if ((output[\"pred\"][0]==\"Y\" and \"negative\" not in folder) or (output[\"pred\"][0]==\"N\" and \"negative\" in folder)) else 0\n",
    "    #adhering+= 1 if output[\"pred\"][0] in [\"Y\", \"N\"] else 0\n",
    "    pbar.set_postfix({\"folder\": folder, \"total\": total, \"accuracy\": correct/total, \"adherance\": adhering/total})\n",
    "with open(outpath, \"w\") as f:\n",
    "    json.dump(outputs, f, indent=4)\n",
    "# if not validate_file(outpath):\n",
    "#     print(\"Validation failed!\")                           "
   ]
  },
  {
   "cell_type": "code",
   "execution_count": null,
   "id": "50026d9f-abfc-410a-aec2-c74bae07d194",
   "metadata": {},
   "outputs": [],
   "source": [
    "with open(\"llava-13b-4bit-zeroshot.json\", \"w\") as f:\n",
    "    json.dump(outputs, f, indent=2)                           "
   ]
  },
  {
   "cell_type": "code",
   "execution_count": null,
   "id": "e1d37aa2-aeeb-4d96-a529-485760270852",
   "metadata": {},
   "outputs": [],
   "source": [
    "for filename in os.listdir(\"images\")[:10]:\n",
    "    display(Image.open(os.path.join(\"images\",filename)).convert('RGB'))\n",
    "    for o in outputs:\n",
    "        if  o[\"image_path\"] == filename:\n",
    "            print(o[\"output\"])"
   ]
  },
  {
   "cell_type": "code",
   "execution_count": null,
   "id": "4237a07f-73ba-4394-bd6e-45be939569d2",
   "metadata": {},
   "outputs": [],
   "source": [
    "import csv\n",
    "\n",
    "with open(\"random.csv\", 'w', newline='') as csv_file:\n",
    "    writer = csv.DictWriter(csv_file, fieldnames=['filename'])\n",
    "    writer.writeheader()\n",
    "    for filename in os.listdir(\"images\"):\n",
    "        writer.writerow({'filename': filename})"
   ]
  }
 ],
 "metadata": {
  "kernelspec": {
   "display_name": "Python 3 (ipykernel)",
   "language": "python",
   "name": "python3"
  },
  "language_info": {
   "codemirror_mode": {
    "name": "ipython",
    "version": 3
   },
   "file_extension": ".py",
   "mimetype": "text/x-python",
   "name": "python",
   "nbconvert_exporter": "python",
   "pygments_lexer": "ipython3",
   "version": "3.9.18"
  }
 },
 "nbformat": 4,
 "nbformat_minor": 5
}
