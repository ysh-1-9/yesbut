{
 "cells": [
  {
   "cell_type": "code",
   "execution_count": 7,
   "id": "4cc6f5ba-e1b9-43ea-a039-80c0055650d9",
   "metadata": {},
   "outputs": [],
   "source": [
    "import base64\n",
    "import requests\n",
    "\n",
    "# OpenAI API Key\n",
    "with open(\"openai-key.txt\", \"r\") as f:\n",
    "    api_key = f.readline()\n",
    "\n",
    "headers = {\n",
    "  \"Content-Type\": \"application/json\",\n",
    "  \"Authorization\": f\"Bearer {api_key}\"\n",
    "}"
   ]
  },
  {
   "cell_type": "code",
   "execution_count": 4,
   "id": "42b0f564-d1d5-4060-84fa-fd287fb6992a",
   "metadata": {},
   "outputs": [
    {
     "name": "stdout",
     "output_type": "stream",
     "text": [
      "{'id': 'chatcmpl-8hN5zh6TQZl6QEJiFm8AfxqQlw4Aj', 'object': 'chat.completion', 'created': 1705347575, 'model': 'gpt-4-1106-vision-preview', 'usage': {'prompt_tokens': 107, 'completion_tokens': 113, 'total_tokens': 220}, 'choices': [{'message': {'role': 'assistant', 'content': 'The meme shows a book with two pages open. On the left page, there is an illustration of legs wearing high heels with the word \"YES\" above it, and on the right page, an illustration of legs without high heels, positioned as if they are still wearing heels, with the word \"BUT\" above it. The humor here lies in the expectation versus reality motif where someone\\'s muscle memory or habits persist even when the usual context (like high heels) is removed, leading to a funny and relatable situation for those who often wear high heels.'}, 'finish_reason': 'stop', 'index': 0}]}\n"
     ]
    },
    {
     "data": {
      "text/plain": [
       "({'prompt_tokens': 107, 'completion_tokens': 113, 'total_tokens': 220},\n",
       " 'The meme shows a book with two pages open. On the left page, there is an illustration of legs wearing high heels with the word \"YES\" above it, and on the right page, an illustration of legs without high heels, positioned as if they are still wearing heels, with the word \"BUT\" above it. The humor here lies in the expectation versus reality motif where someone\\'s muscle memory or habits persist even when the usual context (like high heels) is removed, leading to a funny and relatable situation for those who often wear high heels.')"
      ]
     },
     "execution_count": 4,
     "metadata": {},
     "output_type": "execute_result"
    }
   ],
   "source": [
    "def generate(prompt, image_path, verbose = False):\n",
    "    with open(image_path, \"rb\") as image_file:\n",
    "        base64_image = base64.b64encode(image_file.read()).decode('utf-8')\n",
    "    payload = {\n",
    "      \"model\": \"gpt-4-vision-preview\",\n",
    "      \"messages\": [\n",
    "        {\n",
    "          \"role\": \"user\",\n",
    "          \"content\": [\n",
    "            {\n",
    "              \"type\": \"text\",\n",
    "              \"text\": prompt\n",
    "            },\n",
    "            {\n",
    "              \"type\": \"image_url\",\n",
    "              \"image_url\": {\n",
    "                \"url\": f\"data:image/jpeg;base64,{base64_image}\",\n",
    "                  \"detail\": \"low\"\n",
    "              }\n",
    "            }\n",
    "          ]\n",
    "        }\n",
    "      ],\n",
    "      \"max_tokens\": 128\n",
    "    }\n",
    "    \n",
    "    response = requests.post(\"https://api.openai.com/v1/chat/completions\", headers=headers, json=payload).json()\n",
    "    if verbose:\n",
    "        print(response)\n",
    "    return response[\"usage\"], response[\"choices\"][0][\"message\"][\"content\"]\n",
    "\n",
    "generate(\"This meme made me laugh. What is the punchline in this meme?\", \"images/20240101_172315.jpg\", True)"
   ]
  },
  {
   "cell_type": "code",
   "execution_count": 5,
   "id": "349ca120-b785-4414-8286-32c06f19cce7",
   "metadata": {},
   "outputs": [
    {
     "name": "stderr",
     "output_type": "stream",
     "text": [
      "100%|███████████████████████████████████████████████████████████████████████████████████████████████████████████████| 283/283 [26:22<00:00,  5.59s/it, current_usage=63850, total_usage=117490]\n"
     ]
    }
   ],
   "source": [
    "import os, json\n",
    "from tqdm import tqdm\n",
    "\n",
    "## schema [{\"image_path\": <>, \"prompt\": <>, \"usage\": {\"prompt_tokens\": ...}}]\n",
    "with open(\"gpt4-usages.json\", \"r\") as f:\n",
    "    usages = json.load(f)\n",
    "    total_usage = sum(x[\"usage\"][\"total_tokens\"] for x in usages)\n",
    "\n",
    "\n",
    "outpath = \"outputs/punchline/gpt4-vision-punchline.json\"\n",
    "try:\n",
    "    with open(outpath, \"r\") as f:\n",
    "        outputs = json.load(f)\n",
    "except Exception:\n",
    "    print(\"starting from zero\")\n",
    "    outputs = []\n",
    "\n",
    "current_usage = 14996\n",
    "pbar = tqdm(os.listdir(\"images\"))\n",
    "for filename in pbar:\n",
    "    if filename in (o[\"image_path\"] for o in outputs):\n",
    "        continue\n",
    "    prompt = \"This meme made me laugh. What is the punchline in this meme?\"\n",
    "    usage, output = generate(prompt, os.path.join(\"images\", filename))\n",
    "\n",
    "    outputs.append({\"image_path\":filename, \"output\": output})\n",
    "    with open(outpath, \"w\") as f:\n",
    "        json.dump(outputs, f, indent=2)\n",
    "\n",
    "    usages.append({\"image_path\":filename, \"prompt\": prompt, \"usage\": usage})\n",
    "    with open(\"gpt4-usages.json\", \"w\") as f:\n",
    "        json.dump(usages, f, indent=2)\n",
    "    \n",
    "    current_usage+=usage[\"total_tokens\"]\n",
    "    total_usage+=usage[\"total_tokens\"]\n",
    "    pbar.set_postfix({\"current_usage\": current_usage, \"total_usage\": total_usage})\n",
    "\n",
    "    "
   ]
  },
  {
   "cell_type": "code",
   "execution_count": null,
   "id": "888c14f4-0760-4ac2-ab04-9d29af622b29",
   "metadata": {},
   "outputs": [],
   "source": []
  }
 ],
 "metadata": {
  "kernelspec": {
   "display_name": "Python 3 (ipykernel)",
   "language": "python",
   "name": "python3"
  },
  "language_info": {
   "codemirror_mode": {
    "name": "ipython",
    "version": 3
   },
   "file_extension": ".py",
   "mimetype": "text/x-python",
   "name": "python",
   "nbconvert_exporter": "python",
   "pygments_lexer": "ipython3",
   "version": "3.9.18"
  }
 },
 "nbformat": 4,
 "nbformat_minor": 5
}
