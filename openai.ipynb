{
 "cells": [
  {
   "cell_type": "code",
   "execution_count": 1,
   "id": "4cc6f5ba-e1b9-43ea-a039-80c0055650d9",
   "metadata": {},
   "outputs": [],
   "source": [
    "import base64\n",
    "import requests\n",
    "\n",
    "# OpenAI API Key\n",
    "with open(\"openai-key.txt\", \"r\") as f:\n",
    "    api_key = f.readline()\n",
    "\n",
    "headers = {\n",
    "  \"Content-Type\": \"application/json\",\n",
    "  \"Authorization\": f\"Bearer {api_key}\"\n",
    "}"
   ]
  },
  {
   "cell_type": "code",
   "execution_count": 2,
   "id": "42b0f564-d1d5-4060-84fa-fd287fb6992a",
   "metadata": {},
   "outputs": [
    {
     "data": {
      "text/plain": [
       "({'prompt_tokens': 95, 'completion_tokens': 82, 'total_tokens': 177},\n",
       " 'The image shows an illustration of a pair of human legs walking. One leg is in front of the other, suggesting a walking motion. The legs are bare, and the feet appear to be barefoot as well. The backdrop is a plain, solid color, providing a simple contrast to the legs. It seems to be a simplistic and stylized representation, possibly from a book or a minimalistic art piece.')"
      ]
     },
     "execution_count": 2,
     "metadata": {},
     "output_type": "execute_result"
    }
   ],
   "source": [
    "def generate(prompt, image_path, verbose = False):\n",
    "    with open(image_path, \"rb\") as image_file:\n",
    "        base64_image = base64.b64encode(image_file.read()).decode('utf-8')\n",
    "    payload = {\n",
    "      \"model\": \"gpt-4-vision-preview\",\n",
    "      \"messages\": [\n",
    "        {\n",
    "          \"role\": \"user\",\n",
    "          \"content\": [\n",
    "            {\n",
    "              \"type\": \"text\",\n",
    "              \"text\": prompt\n",
    "            },\n",
    "            {\n",
    "              \"type\": \"image_url\",\n",
    "              \"image_url\": {\n",
    "                \"url\": f\"data:image/jpeg;base64,{base64_image}\",\n",
    "                  \"detail\": \"low\"\n",
    "              }\n",
    "            }\n",
    "          ]\n",
    "        }\n",
    "      ],\n",
    "      \"max_tokens\": 128\n",
    "    }\n",
    "    \n",
    "    response = requests.post(\"https://api.openai.com/v1/chat/completions\", headers=headers, json=payload).json()\n",
    "    if verbose:\n",
    "        from PIL import Image\n",
    "        image = Image.open(image_path)\n",
    "        display(image)\n",
    "        print(response)\n",
    "    if \"usage\" not in response and \"error\" in response:\n",
    "        return {'prompt_tokens': 0, 'completion_tokens': 0, 'total_tokens': 0}, response[\"error\"][\"message\"]\n",
    "    return response[\"usage\"], response[\"choices\"][0][\"message\"][\"content\"]\n",
    "\n",
    "generate(\"Describe this image\", \"images_split/20240101_172315_BUT.jpg\")"
   ]
  },
  {
   "cell_type": "code",
   "execution_count": 3,
   "id": "349ca120-b785-4414-8286-32c06f19cce7",
   "metadata": {},
   "outputs": [
    {
     "name": "stdout",
     "output_type": "stream",
     "text": [
      "Redoing 24 files\n"
     ]
    },
    {
     "name": "stderr",
     "output_type": "stream",
     "text": [
      "100%|████████████████████████████████████████████████████████████████████████████████████████████████████████████████| 283/283 [03:00<00:00,  1.57it/s, current_usage=5278, total_usage=239354]"
     ]
    },
    {
     "name": "stdout",
     "output_type": "stream",
     "text": [
      "File outputs/right/gpt4-vision-right.json is valid.\n"
     ]
    },
    {
     "name": "stderr",
     "output_type": "stream",
     "text": [
      "\n"
     ]
    }
   ],
   "source": [
    "import os, json\n",
    "from tqdm import tqdm\n",
    "from validate import validate_file\n",
    "\n",
    "## schema [{\"image_path\": <>, \"prompt\": <>, \"usage\": {\"prompt_tokens\": ...}}]\n",
    "with open(\"gpt4-usages.json\", \"r\") as f:\n",
    "    usages = json.load(f)\n",
    "    total_usage = sum(x[\"usage\"][\"total_tokens\"] for x in usages)\n",
    "\n",
    "outpath = \"outputs/right/gpt4-vision-right.json\"\n",
    "try:\n",
    "    with open(outpath, \"r\") as f:\n",
    "        outputs = json.load(f)\n",
    "except Exception:\n",
    "    print(\"starting from zero\")\n",
    "    outputs = {}\n",
    "\n",
    "current_usage = 0\n",
    "files = [x for x in os.listdir(\"images_split\") if \"BUT\" in x]\n",
    "redo_files = [path for path,output in outputs.items() if \"Rate limit reach\" in output]\n",
    "print(f\"Redoing {len(redo_files)} files\")\n",
    "pbar = tqdm(files)\n",
    "for filename in pbar:\n",
    "    if filename in outputs and filename not in redo_files:\n",
    "        continue\n",
    "    prompt = \"Describe this image\"\n",
    "    usage, output = generate(prompt, os.path.join(\"images_split\", filename))\n",
    "\n",
    "    outputs[filename] = output\n",
    "    with open(outpath, \"w\") as f:\n",
    "        json.dump(outputs, f, indent=4)\n",
    "\n",
    "    usages.append({\"image_path\":filename, \"prompt\": prompt, \"usage\": usage})\n",
    "    with open(\"gpt4-usages.json\", \"w\") as f:\n",
    "        json.dump(usages, f, indent=2)\n",
    "    \n",
    "    current_usage+=usage[\"total_tokens\"]\n",
    "    total_usage+=usage[\"total_tokens\"]\n",
    "    pbar.set_postfix({\"current_usage\": current_usage, \"total_usage\": total_usage})\n",
    "\n",
    "with open(outpath, \"w\") as f:\n",
    "    json.dump(outputs, f, indent=4)\n",
    "if not validate_file(outpath):\n",
    "    print(\"Validation failed!\")    "
   ]
  },
  {
   "cell_type": "code",
   "execution_count": null,
   "id": "888c14f4-0760-4ac2-ab04-9d29af622b29",
   "metadata": {},
   "outputs": [],
   "source": [
    "# whyfunny: 53930\n",
    "# punchline: 63560\n",
    "# left: ~60000\n",
    "# right: ~60000"
   ]
  }
 ],
 "metadata": {
  "kernelspec": {
   "display_name": "Python 3 (ipykernel)",
   "language": "python",
   "name": "python3"
  },
  "language_info": {
   "codemirror_mode": {
    "name": "ipython",
    "version": 3
   },
   "file_extension": ".py",
   "mimetype": "text/x-python",
   "name": "python",
   "nbconvert_exporter": "python",
   "pygments_lexer": "ipython3",
   "version": "3.9.18"
  }
 },
 "nbformat": 4,
 "nbformat_minor": 5
}
