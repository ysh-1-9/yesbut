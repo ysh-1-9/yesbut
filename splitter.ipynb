{
 "cells": [
  {
   "cell_type": "code",
   "execution_count": null,
   "id": "6ec595c4-6c4e-426b-a94b-35e46a02fa2e",
   "metadata": {},
   "outputs": [],
   "source": [
    "import os\n",
    "import requests\n",
    "from PIL import Image\n",
    "\n",
    "from tqdm import tqdm"
   ]
  },
  {
   "cell_type": "code",
   "execution_count": null,
   "id": "ebf0886c-92a4-46c7-8eac-9eecfd76d138",
   "metadata": {},
   "outputs": [],
   "source": [
    "def is_row_white(image, y):\n",
    "    for x in range(image.width):\n",
    "        if image.getpixel((x, y)) != (255, 255, 255):  # Not white\n",
    "            return False\n",
    "    return True\n",
    "\n",
    "def crop_top(image):\n",
    "    for y in range(image.height):\n",
    "        if not is_row_white(image, y):\n",
    "            break\n",
    "    if y == image.height-1:\n",
    "        raise Exception(\"y reached end\")\n",
    "    for yy in range(y+1, image.height):\n",
    "        if is_row_white(image,yy):\n",
    "            break\n",
    "    if yy == image.height-1:\n",
    "        raise Exception(f\"yy reached end, y was {y}, height was {image.height}\")\n",
    "\n",
    "    crop_area = (0, yy, image.width, image.height)\n",
    "    cropped_image = image.crop(crop_area)\n",
    "    return cropped_image\n",
    "\n",
    "display(crop_top(Image.open(\"images_split/20240101_173712_YES.jpg\")))"
   ]
  },
  {
   "cell_type": "code",
   "execution_count": null,
   "id": "1de0ed82-9a7f-4fcf-8934-8262186ec248",
   "metadata": {},
   "outputs": [],
   "source": [
    "left_fails = []\n",
    "right_fails = []\n",
    "\n",
    "for filename in tqdm(os.listdir(\"images\")):\n",
    "    img = Image.open(os.path.join(\"images\",filename))\n",
    "    middle = img.width // 2\n",
    "\n",
    "    left_half = img.crop((0, 0, middle, img.height))\n",
    "    right_half = img.crop((middle, 0, img.width, img.height))\n",
    "\n",
    "    name = filename[:-4]\n",
    "\n",
    "    try:\n",
    "        left_cropped = crop_top(left_half)\n",
    "        left_cropped.save(f\"images_split/{name}_YES.jpg\")\n",
    "    except:\n",
    "        print(f\"Couldn't do left for file: {name}\")\n",
    "        left_fails.append(name)\n",
    "\n",
    "    try:\n",
    "        right_cropped = crop_top(right_half)\n",
    "        right_cropped.save(f\"images_split/{name}_BUT.jpg\")\n",
    "    except:\n",
    "        print(f\"Couldn't do right for file: {name}\")\n",
    "        right_fails.append(name)"
   ]
  },
  {
   "cell_type": "code",
   "execution_count": null,
   "id": "c731f58f-2bde-49d1-953a-2f88309797c5",
   "metadata": {},
   "outputs": [],
   "source": [
    "!mkdir split_fails\n",
    "for name in left_fails:\n",
    "    ! cp images/{name}.jpg split_fails/{name}_YES.jpg\n",
    "for name in right_fails:\n",
    "    ! cp images/{name}.jpg split_fails/{name}_BUT.jpg"
   ]
  },
  {
   "cell_type": "code",
   "execution_count": null,
   "id": "c42137f4-f81f-4062-84e3-d46242d73aa9",
   "metadata": {},
   "outputs": [],
   "source": [
    "!zip -r split_fails.zip split_fails"
   ]
  },
  {
   "cell_type": "code",
   "execution_count": null,
   "id": "ce44c0bf-076c-45d5-a91a-2f1205c6d2f5",
   "metadata": {},
   "outputs": [],
   "source": []
  }
 ],
 "metadata": {
  "kernelspec": {
   "display_name": "Python 3 (ipykernel)",
   "language": "python",
   "name": "python3"
  },
  "language_info": {
   "codemirror_mode": {
    "name": "ipython",
    "version": 3
   },
   "file_extension": ".py",
   "mimetype": "text/x-python",
   "name": "python",
   "nbconvert_exporter": "python",
   "pygments_lexer": "ipython3",
   "version": "3.9.18"
  }
 },
 "nbformat": 4,
 "nbformat_minor": 5
}
