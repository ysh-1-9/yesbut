{
 "cells": [
  {
   "cell_type": "code",
   "execution_count": 1,
   "id": "a4f5d7d9-887f-472f-9b4e-e19794216b34",
   "metadata": {},
   "outputs": [
    {
     "name": "stdout",
     "output_type": "stream",
     "text": [
      "Torch version: 2.0.1+cu117\n"
     ]
    }
   ],
   "source": [
    "import numpy as np\n",
    "import torch\n",
    "from pkg_resources import packaging\n",
    "\n",
    "print(\"Torch version:\", torch.__version__) # should be >= 1.7.1\n"
   ]
  },
  {
   "cell_type": "code",
   "execution_count": 2,
   "id": "fedacd11-4ece-4c3b-ba37-8e61e444fcab",
   "metadata": {},
   "outputs": [
    {
     "data": {
      "text/plain": [
       "['RN50',\n",
       " 'RN101',\n",
       " 'RN50x4',\n",
       " 'RN50x16',\n",
       " 'RN50x64',\n",
       " 'ViT-B/32',\n",
       " 'ViT-B/16',\n",
       " 'ViT-L/14',\n",
       " 'ViT-L/14@336px']"
      ]
     },
     "execution_count": 2,
     "metadata": {},
     "output_type": "execute_result"
    }
   ],
   "source": [
    "import clip\n",
    "\n",
    "clip.available_models()"
   ]
  },
  {
   "cell_type": "code",
   "execution_count": 4,
   "id": "b679b063-fe3c-418c-bab9-e9a7a34c170d",
   "metadata": {},
   "outputs": [
    {
     "name": "stderr",
     "output_type": "stream",
     "text": [
      "100%|███████████████████████████████████████| 338M/338M [00:13<00:00, 27.0MiB/s]\n"
     ]
    },
    {
     "name": "stdout",
     "output_type": "stream",
     "text": [
      "Model parameters: 151,277,313\n",
      "Input resolution: 224\n",
      "Context length: 77\n",
      "Vocab size: 49408\n"
     ]
    }
   ],
   "source": [
    "model, preprocess = clip.load(\"ViT-B/32\")\n",
    "model.cuda().eval()\n",
    "input_resolution = model.visual.input_resolution\n",
    "context_length = model.context_length\n",
    "vocab_size = model.vocab_size\n",
    "\n",
    "print(\"Model parameters:\", f\"{np.sum([int(np.prod(p.shape)) for p in model.parameters()]):,}\")\n",
    "print(\"Input resolution:\", input_resolution)\n",
    "print(\"Context length:\", context_length)\n",
    "print(\"Vocab size:\", vocab_size)"
   ]
  },
  {
   "cell_type": "code",
   "execution_count": null,
   "id": "e05533e2-e8b6-4b8f-adff-48144a19760d",
   "metadata": {},
   "outputs": [],
   "source": [
    "image_input = torch.tensor(np.stack(images)).cuda()"
   ]
  },
  {
   "cell_type": "code",
   "execution_count": null,
   "id": "4eb0c069-de60-45f2-90ca-2a9b4ce9d436",
   "metadata": {},
   "outputs": [],
   "source": [
    "outpath = \"outputs/clip/embeddings.pkl\"\n",
    "\n",
    "# schema [{\"image_path\": <>, \"output\": <>}, ...]\n",
    "try:\n",
    "    with open(outpath,\"rb\") as f:\n",
    "        outputs = pickle.load(f)\n",
    "except Exception:\n",
    "    print(\"starting from zero\")\n",
    "    outputs = []\n",
    "\n",
    "files = os.listdir(\"images\")\n",
    "for filename in tqdm(files)"
   ]
  }
 ],
 "metadata": {
  "kernelspec": {
   "display_name": "Python 3 (ipykernel)",
   "language": "python",
   "name": "python3"
  },
  "language_info": {
   "codemirror_mode": {
    "name": "ipython",
    "version": 3
   },
   "file_extension": ".py",
   "mimetype": "text/x-python",
   "name": "python",
   "nbconvert_exporter": "python",
   "pygments_lexer": "ipython3",
   "version": "3.9.18"
  }
 },
 "nbformat": 4,
 "nbformat_minor": 5
}
