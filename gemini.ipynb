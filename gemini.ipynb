{
 "cells": [
  {
   "cell_type": "code",
   "execution_count": 14,
   "id": "bf7d0370-b93e-4f86-ac14-8b7879c59688",
   "metadata": {},
   "outputs": [
    {
     "data": {
      "text/plain": [
       "' A pair of pink high heel shoes with a platform sole.'"
      ]
     },
     "execution_count": 14,
     "metadata": {},
     "output_type": "execute_result"
    }
   ],
   "source": [
    "import base64\n",
    "from PIL import Image\n",
    "import vertexai\n",
    "from vertexai.preview.generative_models import GenerativeModel, Part\n",
    "from vertexai.generative_models._generative_models import HarmCategory, HarmBlockThreshold, ResponseBlockedError\n",
    "from pathlib import Path\n",
    "\n",
    "vertexai.init(project=\"crypto-resolver-346012\", location=\"us-central1\")\n",
    "\n",
    "def generate(image):\n",
    "    model = GenerativeModel(\"gemini-pro-vision\")\n",
    "    \n",
    "    safety_settings = {\n",
    "        HarmCategory.HARM_CATEGORY_DANGEROUS_CONTENT: HarmBlockThreshold.BLOCK_NONE,\n",
    "        HarmCategory.HARM_CATEGORY_HATE_SPEECH: HarmBlockThreshold.BLOCK_NONE,\n",
    "        HarmCategory.HARM_CATEGORY_HARASSMENT: HarmBlockThreshold.BLOCK_NONE,\n",
    "        HarmCategory.HARM_CATEGORY_SEXUALLY_EXPLICIT: HarmBlockThreshold.BLOCK_NONE,\n",
    "    }\n",
    "\n",
    "    # Yes,But memes are funny because the Yes picture depicts a normal situation, and the But picture reveals something about the Yes picture that makes humans laugh. What is funny about the given Yes,But meme\n",
    "    \n",
    "    responses = model.generate_content(\n",
    "        [image, \"\"\"Describe this image\"\"\"],\n",
    "        generation_config={\n",
    "            \"max_output_tokens\": 128,\n",
    "            \"temperature\": 0.8,\n",
    "            \"top_p\": 1,\n",
    "            \"top_k\": 32,\n",
    "            \"candidate_count\": 1\n",
    "        },\n",
    "        safety_settings=safety_settings,\n",
    "        \n",
    "    )\n",
    "    #print(type(responses))\n",
    "    #print(responses)\n",
    "    #print(responses.text)\n",
    "    return responses.text\n",
    "\n",
    "\n",
    "with open(\"images_split/20240101_172315_YES.jpg\", \"rb\") as f:\n",
    "    data = f.read()\n",
    "    image1 = Part.from_data(data=data, mime_type=\"image/jpeg\")\n",
    "    #print(image1)\n",
    "\n",
    "generate(image1)"
   ]
  },
  {
   "cell_type": "code",
   "execution_count": 15,
   "id": "c60a0c5f-2fc5-4ed5-b8c1-d1ebba7743c0",
   "metadata": {},
   "outputs": [
    {
     "name": "stdout",
     "output_type": "stream",
     "text": [
      "starting from zero\n"
     ]
    },
    {
     "name": "stderr",
     "output_type": "stream",
     "text": [
      " 16%|███████████████████████▊                                                                                                                                 | 44/283 [05:30<24:48,  6.23s/it]"
     ]
    },
    {
     "name": "stdout",
     "output_type": "stream",
     "text": [
      "Caught exception:  list index out of range\n",
      "Could not do file:  20240101_175759_BUT.jpg\n"
     ]
    },
    {
     "name": "stderr",
     "output_type": "stream",
     "text": [
      " 17%|██████████████████████████▍                                                                                                                              | 49/283 [06:00<20:59,  5.38s/it]"
     ]
    },
    {
     "name": "stdout",
     "output_type": "stream",
     "text": [
      "Caught exception:  list index out of range\n",
      "Could not do file:  20240101_173729_BUT.jpg\n"
     ]
    },
    {
     "name": "stderr",
     "output_type": "stream",
     "text": [
      " 52%|██████████████████████████████████████████████████████████████████████████████▍                                                                         | 146/283 [18:20<12:53,  5.65s/it]"
     ]
    },
    {
     "name": "stdout",
     "output_type": "stream",
     "text": [
      "Caught exception:  list index out of range\n",
      "Could not do file:  20240101_173401_BUT.jpg\n"
     ]
    },
    {
     "name": "stderr",
     "output_type": "stream",
     "text": [
      " 94%|██████████████████████████████████████████████████████████████████████████████████████████████████████████████████████████████████████████████▎         | 265/283 [32:48<01:43,  5.73s/it]"
     ]
    },
    {
     "name": "stdout",
     "output_type": "stream",
     "text": [
      "Caught exception:  list index out of range\n",
      "Could not do file:  20240101_180032_BUT.jpg\n"
     ]
    },
    {
     "name": "stderr",
     "output_type": "stream",
     "text": [
      "100%|████████████████████████████████████████████████████████████████████████████████████████████████████████████████████████████████████████████████████████| 283/283 [34:57<00:00,  7.41s/it]\n"
     ]
    }
   ],
   "source": [
    "import os,json\n",
    "from tqdm import tqdm\n",
    "\n",
    "outpath = \"outputs/right/gemini-pro-vision-right.json\"\n",
    "try:\n",
    "    with open(outpath, \"r\") as f:\n",
    "        outputs = json.load(f)\n",
    "except Exception:\n",
    "    print(\"starting from zero\")\n",
    "    outputs = []\n",
    "\n",
    "files = [x for x in os.listdir(\"images_split\") if \"BUT\" in x]\n",
    "for filename in tqdm(files):\n",
    "    if filename in (o[\"image_path\"] for o in outputs):\n",
    "        continue\n",
    "    with open(os.path.join(\"images_split\",filename), \"rb\") as f:\n",
    "        data = f.read()\n",
    "        image = Part.from_data(data=data, mime_type=\"image/jpeg\")\n",
    "    #display(Image.open(os.path.join(\"images\",filename)).convert('RGB'))\n",
    "    #print(filename)\n",
    "    try:\n",
    "        output = generate(image)\n",
    "    except Exception as e:\n",
    "        print(\"Caught exception: \",str(e))\n",
    "        print(\"Could not do file: \",filename)\n",
    "        output = \"\"\n",
    "    \n",
    "    outputs.append({\"image_path\":filename, \"output\": output})\n",
    "    with open(outpath, \"w\") as f:\n",
    "        json.dump(outputs, f, indent=2)"
   ]
  },
  {
   "cell_type": "code",
   "execution_count": null,
   "id": "dea2648c-ba06-4dca-8fe1-7846628db461",
   "metadata": {},
   "outputs": [],
   "source": [
    "\"\"\"\n",
    "Caught exception:  500 Internal error encountered.\n",
    "Could not do file:  20240101_172932.jpg\n",
    "\n",
    "Caught exception:  500 Internal error encountered.\n",
    "Could not do file:  20240101_182249.jpg\n",
    "\"\"\""
   ]
  }
 ],
 "metadata": {
  "kernelspec": {
   "display_name": "Python 3 (ipykernel)",
   "language": "python",
   "name": "python3"
  },
  "language_info": {
   "codemirror_mode": {
    "name": "ipython",
    "version": 3
   },
   "file_extension": ".py",
   "mimetype": "text/x-python",
   "name": "python",
   "nbconvert_exporter": "python",
   "pygments_lexer": "ipython3",
   "version": "3.9.18"
  }
 },
 "nbformat": 4,
 "nbformat_minor": 5
}
