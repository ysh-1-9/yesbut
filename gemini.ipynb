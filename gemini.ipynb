{
 "cells": [
  {
   "cell_type": "code",
   "execution_count": 21,
   "id": "bf7d0370-b93e-4f86-ac14-8b7879c59688",
   "metadata": {},
   "outputs": [
    {
     "data": {
      "text/plain": [
       "' A'"
      ]
     },
     "execution_count": 21,
     "metadata": {},
     "output_type": "execute_result"
    }
   ],
   "source": [
    "import base64\n",
    "from PIL import Image\n",
    "import vertexai\n",
    "from vertexai.preview.generative_models import GenerativeModel, Part\n",
    "from vertexai.generative_models._generative_models import HarmCategory, HarmBlockThreshold, ResponseBlockedError\n",
    "from pathlib import Path\n",
    "\n",
    "vertexai.init(project=\"crypto-resolver-346012\", location=\"us-central1\")\n",
    "\n",
    "prompt = '''You are an AI expert in creating humour or satire. User gives you an image, and you have to make a choice \"A\" or \"B\".\n",
    "###Instructions: The image is a 2x2 table with the labels \"yes\" (top left), \"but\" (top right), \"A\" (bottom left), and \"B\" (bottom right). Either the \"yes\" cell or the \"but\" cell will have a question mark in it. Your job is to replace the question mark with either cell \"A\" or cell \"B\" so that the resulting [yes,but] pair is funny or satirical. Make a choice  \"A\" or \"B\":\n",
    "###Output format: one character, exactly either \"A\" or \"B\"'''\n",
    "def generate(image):\n",
    "    model = GenerativeModel(\"gemini-pro-vision\")\n",
    "    \n",
    "    safety_settings = {\n",
    "        HarmCategory.HARM_CATEGORY_DANGEROUS_CONTENT: HarmBlockThreshold.BLOCK_NONE,\n",
    "        HarmCategory.HARM_CATEGORY_HATE_SPEECH: HarmBlockThreshold.BLOCK_NONE,\n",
    "        HarmCategory.HARM_CATEGORY_HARASSMENT: HarmBlockThreshold.BLOCK_NONE,\n",
    "        HarmCategory.HARM_CATEGORY_SEXUALLY_EXPLICIT: HarmBlockThreshold.BLOCK_NONE,\n",
    "    }\n",
    "\n",
    "    # Yes,But memes are funny because the Yes picture depicts a normal situation, and the But picture reveals something about the Yes picture that makes humans laugh. What is funny about the given Yes,But meme\n",
    "    \n",
    "    responses = model.generate_content(\n",
    "        [prompt,image],\n",
    "        generation_config={\n",
    "            \"max_output_tokens\": 256,\n",
    "            \"temperature\": 1,\n",
    "            \"top_p\": 1,\n",
    "            \"top_k\": 32,\n",
    "            \"candidate_count\": 1\n",
    "        },\n",
    "        safety_settings=safety_settings,\n",
    "        \n",
    "    )\n",
    "    #print(type(responses))\n",
    "    #print(responses)\n",
    "    #print(responses.text)\n",
    "    return responses.text\n",
    "\n",
    "\n",
    "with open(\"yesbut_image_completion/20240101_181415_QMARK_RIGHT.jpg\", \"rb\") as f:\n",
    "    data = f.read()\n",
    "    image1 = Part.from_data(data=data, mime_type=\"image/jpeg\")\n",
    "    #print(image1)\n",
    "\n",
    "generate(image1)"
   ]
  },
  {
   "cell_type": "code",
   "execution_count": null,
   "id": "6021e12a-bd91-4ce8-a497-7b0456e857ff",
   "metadata": {},
   "outputs": [],
   "source": [
    "'''\n",
    "You are an AI expert in creating humour or satire. User gives you an image, and you have to make a choice \"A\" or \"B\".\n",
    "\n",
    "###Structure of image: The image is a 2x2 table with the labels \"yes\", \"but\", \"A\", and \"B\". Either the \"yes\" cell or the \"but\" cell will have a question mark in it. Your job is to replace the question mark with either cell \"A\" or cell \"B\" so that the resulting <yes,but> pair is funny or satirical.\n",
    "\n",
    "###Output format: Option <answer> is more funny because <reason>\" where <answer> must be either \"A\" or \"B\"\n",
    "\n",
    "'''\n",
    "\n",
    "###Output format: \" Thus, option <answer> is more funny because <reason>\" where <answer> must be either \"A\" or \"B\"\n",
    "\n",
    "\"When the question mark is replaced by image A, the resulting [yes,but] pair is <describe it here>.\n",
    "When the question mark is replaced by image B, the resulting [yes,but] pair is <describe it here>."
   ]
  },
  {
   "cell_type": "code",
   "execution_count": 2,
   "id": "8126cf78-bdc1-4e81-9ec2-2e4d37531f98",
   "metadata": {},
   "outputs": [
    {
     "name": "stdout",
     "output_type": "stream",
     "text": [
      "('outputs/dalle3/stick/yes/20240101_172315_STICK_YES.jpg', 'outputs/dalle3/3d/but/20240101_172315_3D_BUT.jpg')\n"
     ]
    }
   ],
   "source": [
    "import os\n",
    "def to_dalle_path(type, og_filename, side):\n",
    "    return os.path.join(f\"outputs/dalle3/{type.lower()}/{side.lower()}\",f\"{og_filename}_{type}_{side}.jpg\")\n",
    "\n",
    "def get_lr_path_from_filename(filename):\n",
    "    if not \"YES\" in filename and not \"BUT\" in filename:\n",
    "        yes = os.path.join(\"images_split\",f\"{filename[:-4]}_YES.jpg\")\n",
    "        but = os.path.join(\"images_split\",f\"{filename[:-4]}_BUT.jpg\")\n",
    "    else:\n",
    "        parts = filename.split(\"_\")\n",
    "        #print(parts)\n",
    "        og_filename = \"_\".join(parts[:-4])\n",
    "        yestype, buttype = parts[-4], parts[-2]\n",
    "        yes = to_dalle_path(yestype, og_filename, \"YES\") if yestype!=\"ORIG\" else os.path.join(\"images_split\",f\"{og_filename}_YES.jpg\")\n",
    "        but = to_dalle_path(buttype, og_filename, \"BUT\") if buttype!=\"ORIG\" else os.path.join(\"images_split\",f\"{og_filename}_BUT.jpg\")\n",
    "    return yes,but\n",
    "\n",
    "print(get_lr_path_from_filename(\"20240101_172315_STICK_YES_3D_BUT.jpg\"))"
   ]
  },
  {
   "cell_type": "code",
   "execution_count": 22,
   "id": "c60a0c5f-2fc5-4ed5-b8c1-d1ebba7743c0",
   "metadata": {},
   "outputs": [
    {
     "name": "stdout",
     "output_type": "stream",
     "text": [
      "starting from zero\n"
     ]
    },
    {
     "name": "stderr",
     "output_type": "stream",
     "text": [
      " 18%|█████████████████████████████▋                                                                                                                                        | 27/151 [02:42<11:10,  5.41s/it]"
     ]
    },
    {
     "name": "stdout",
     "output_type": "stream",
     "text": [
      "Caught exception:  list index out of range\n",
      "Could not do file:  20240101_173813_LEFT_QMARK.jpg\n"
     ]
    },
    {
     "name": "stderr",
     "output_type": "stream",
     "text": [
      " 19%|██████████████████████████████▊                                                                                                                                       | 28/151 [02:46<09:53,  4.82s/it]"
     ]
    },
    {
     "name": "stdout",
     "output_type": "stream",
     "text": [
      "Caught exception:  list index out of range\n",
      "Could not do file:  20240101_173239_LEFT_QMARK.jpg\n"
     ]
    },
    {
     "name": "stderr",
     "output_type": "stream",
     "text": [
      " 30%|██████████████████████████████████████████████████▌                                                                                                                   | 46/151 [04:34<09:00,  5.15s/it]"
     ]
    },
    {
     "name": "stdout",
     "output_type": "stream",
     "text": [
      "Caught exception:  list index out of range\n",
      "Could not do file:  20240101_173232_QMARK_RIGHT.jpg\n"
     ]
    },
    {
     "name": "stderr",
     "output_type": "stream",
     "text": [
      " 51%|████████████████████████████████████████████████████████████████████████████████████▋                                                                                 | 77/151 [07:41<07:40,  6.22s/it]"
     ]
    },
    {
     "name": "stdout",
     "output_type": "stream",
     "text": [
      "[WARN] Skipping Weird file: .ipynb_checkpoints\n"
     ]
    },
    {
     "name": "stderr",
     "output_type": "stream",
     "text": [
      " 52%|██████████████████████████████████████████████████████████████████████████████████████▊                                                                               | 79/151 [07:44<04:48,  4.01s/it]"
     ]
    },
    {
     "name": "stdout",
     "output_type": "stream",
     "text": [
      "Caught exception:  list index out of range\n",
      "Could not do file:  20240101_173936_QMARK_RIGHT.jpg\n"
     ]
    },
    {
     "name": "stderr",
     "output_type": "stream",
     "text": [
      " 66%|█████████████████████████████████████████████████████████████████████████████████████████████████████████████▎                                                       | 100/151 [09:49<04:28,  5.26s/it]"
     ]
    },
    {
     "name": "stdout",
     "output_type": "stream",
     "text": [
      "Caught exception:  list index out of range\n",
      "Could not do file:  Screenshot_2024-01-01-17-38-54-117_com.twitter.android-edit_QMARK_RIGHT.jpg\n"
     ]
    },
    {
     "name": "stderr",
     "output_type": "stream",
     "text": [
      " 85%|███████████████████████████████████████████████████████████████████████████████████████████████████████████████████████████████████████████▊                         | 128/151 [12:39<01:59,  5.20s/it]"
     ]
    },
    {
     "name": "stdout",
     "output_type": "stream",
     "text": [
      "Caught exception:  list index out of range\n",
      "Could not do file:  Screenshot_2024-01-01-17-55-08-129_com.twitter.android~2_QMARK_RIGHT.jpg\n"
     ]
    },
    {
     "name": "stderr",
     "output_type": "stream",
     "text": [
      "100%|█████████████████████████████████████████████████████████████████████████████████████████████████████████████████████████████████████████████████████████████████████| 151/151 [14:57<00:00,  5.95s/it]\n"
     ]
    }
   ],
   "source": [
    "import os,json\n",
    "from tqdm import tqdm\n",
    "from validate import validate_file\n",
    "\n",
    "outpath = \"outputs/completion/gemini-pro-vision-zero.json\"\n",
    "inpath = \"yesbut_image_completion\"\n",
    "try:\n",
    "    with open(outpath, \"r\") as f:\n",
    "        outputs = json.load(f)\n",
    "except FileNotFoundError:\n",
    "    print(\"starting from zero\")\n",
    "    outputs = {}\n",
    "\n",
    "# files = [x for x in os.listdir(inpath) if \"BUT\" in x]\n",
    "#redo_files = [\"20240101_174949_BUT.jpg\"]\n",
    "## fullfiles = os.listdir(inpath)\n",
    "## files = set()\n",
    "## for filename in fullfiles:\n",
    "##     _,but = get_lr_path_from_filename(filename)\n",
    "##     if \"outputs/dalle3\" in but:\n",
    "##         files.add(but)\n",
    "files = os.listdir(inpath)\n",
    "for filename in tqdm(files):\n",
    "# for filepath in tqdm(files):\n",
    "#     filename = filepath.split(\"/\")[-1]\n",
    "#     inpath = \"/\".join(filepath.split(\"/\")[:-1])\n",
    "    if not filename[-3:] == \"jpg\":\n",
    "        print(f\"[WARN] Skipping Weird file: {filename}\")\n",
    "        continue\n",
    "    if filename in outputs and outputs[filename]:\n",
    "        continue\n",
    "    with open(os.path.join(inpath,filename), \"rb\") as f:\n",
    "        data = f.read()\n",
    "        image = Part.from_data(data=data, mime_type=\"image/jpeg\")\n",
    "    #display(Image.open(os.path.join(\"images\",filename)).convert('RGB'))\n",
    "    #print(filename)\n",
    "    try:\n",
    "        output = generate(image)\n",
    "    except Exception as e:\n",
    "        print(\"Caught exception: \",str(e))\n",
    "        print(\"Could not do file: \",filename)\n",
    "        output = \"\"\n",
    "    \n",
    "    outputs[filename]= output\n",
    "    with open(outpath, \"w\") as f:\n",
    "        json.dump(outputs, f, indent=4)\n",
    "\n",
    "with open(outpath, \"w\") as f:\n",
    "    json.dump(outputs, f, indent=4)\n",
    "# if not validate_file(outpath):\n",
    "#     print(\"Validation failed!\")"
   ]
  },
  {
   "cell_type": "code",
   "execution_count": null,
   "id": "dea2648c-ba06-4dca-8fe1-7846628db461",
   "metadata": {},
   "outputs": [],
   "source": [
    "\"\"\"\n",
    "Caught exception:  500 Internal error encountered.\n",
    "Could not do file:  20240101_172932.jpg\n",
    "\n",
    "Caught exception:  500 Internal error encountered.\n",
    "Could not do file:  20240101_182249.jpg\n",
    "\"\"\""
   ]
  },
  {
   "cell_type": "code",
   "execution_count": null,
   "id": "cc5dbbaf-0d97-408c-872c-67ae9c7b241f",
   "metadata": {},
   "outputs": [],
   "source": [
    "\"\"\"\n",
    "manually redid:\n",
    "[\"20240101_173205_BUT.jpg\", \"20240101_173205_YES.jpg\", \"20240101_174949_BUT.jpg\", \"20240101_174949_YES.jpg\", \"20240101_181310_YES.jpg\"]\n",
    "\"\"\""
   ]
  },
  {
   "cell_type": "code",
   "execution_count": 20,
   "id": "0a70e3db-2a62-4261-b6a9-37627bdeb0b1",
   "metadata": {},
   "outputs": [],
   "source": [
    "# separate second and third rounds\n",
    "\n",
    "for task in os.listdir(\"outputs/second_round\"):\n",
    "    for file in os.listdir(f\"outputs/second_round/{task}\"):\n",
    "        if \"ipynb\" in file:\n",
    "            continue\n",
    "        with open(f\"outputs/second_round/{task}/{file}\", \"r\") as f:\n",
    "            outputs = json.load(f)\n",
    "        third_outs = {}\n",
    "        og_len = len(outputs)\n",
    "        for key,val in outputs.items():\n",
    "            if \"3D\" in key:\n",
    "                third_outs[key] = val\n",
    "        for key in third_outs.keys():\n",
    "            del outputs[key]\n",
    "        assert og_len == len(outputs)+len(third_outs)\n",
    "        with open(f\"outputs/second_round/{task}/{file}\", \"w\") as f:\n",
    "            json.dump(outputs, f, indent=4)\n",
    "        with open(f\"outputs/third_round/{task}/{file}\", \"w\") as f:\n",
    "            json.dump(third_outs, f, indent=4)"
   ]
  }
 ],
 "metadata": {
  "kernelspec": {
   "display_name": "Python 3 (ipykernel)",
   "language": "python",
   "name": "python3"
  },
  "language_info": {
   "codemirror_mode": {
    "name": "ipython",
    "version": 3
   },
   "file_extension": ".py",
   "mimetype": "text/x-python",
   "name": "python",
   "nbconvert_exporter": "python",
   "pygments_lexer": "ipython3",
   "version": "3.9.18"
  }
 },
 "nbformat": 4,
 "nbformat_minor": 5
}
