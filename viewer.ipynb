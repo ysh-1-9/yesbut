{
 "cells": [
  {
   "cell_type": "code",
   "execution_count": 11,
   "id": "bc1e80d7-5fad-436a-abec-7f281ddac47c",
   "metadata": {
    "scrolled": true
   },
   "outputs": [
    {
     "data": {
      "image/png": "[encoded data removed]",
      "text/plain": [
       "<PIL.Image.Image image mode=RGB size=336x336>"
      ]
     },
     "metadata": {},
     "output_type": "display_data"
    },
    {
     "name": "stdout",
     "output_type": "stream",
     "text": [
      "I'm sorry, but you haven't provided an image for me to describe. If you upload an image, I'd be happy to help you with a description.\n"
     ]
    }
   ],
   "source": [
    "import random, json\n",
    "from PIL import Image\n",
    "import os\n",
    "\n",
    "outputfile = \"outputs/left/gpt4-vision-left.json\"\n",
    "with open(outputfile, \"r\") as f:\n",
    "    outputs = json.load(f)\n",
    "\n",
    "\n",
    "\n",
    "output = random.choice(outputs)\n",
    "assert (\"left\" in outputfile) == (\"YES\" in output[\"image_path\"])\n",
    "display(Image.open(os.path.join(\"images_split\",output[\"image_path\"])).convert('RGB').resize((336,336)))\n",
    "print(output[\"output\"])"
   ]
  },
  {
   "cell_type": "code",
   "execution_count": 12,
   "id": "f222c766-0a2c-4ea2-8edc-2078e17b9234",
   "metadata": {},
   "outputs": [
    {
     "name": "stdout",
     "output_type": "stream",
     "text": [
      "{'image_path': '20240101_174949_YES.jpg', 'output': \"I'm sorry, but you haven't provided an image for me to describe. If you upload an image, I'd be happy to help you with a description.\"}\n",
      "{'image_path': '20240101_173205_YES.jpg', 'output': \"I'm sorry, but it appears you have not provided an image for me to describe. If you upload an image, I would be happy to describe it for you.\"}\n"
     ]
    }
   ],
   "source": [
    "for o in outputs:\n",
    "    if \"I'm sorry\" in o[\"output\"]:\n",
    "        print(o)"
   ]
  }
 ],
 "metadata": {
  "kernelspec": {
   "display_name": "Python 3 (ipykernel)",
   "language": "python",
   "name": "python3"
  },
  "language_info": {
   "codemirror_mode": {
    "name": "ipython",
    "version": 3
   },
   "file_extension": ".py",
   "mimetype": "text/x-python",
   "name": "python",
   "nbconvert_exporter": "python",
   "pygments_lexer": "ipython3",
   "version": "3.9.18"
  }
 },
 "nbformat": 4,
 "nbformat_minor": 5
}
